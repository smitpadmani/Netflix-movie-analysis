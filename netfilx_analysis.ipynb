{
 "cells": [
  {
   "cell_type": "code",
   "execution_count": 11,
   "id": "08a06919-6dd1-413b-a163-3588f122867f",
   "metadata": {},
   "outputs": [],
   "source": [
    "# Perform exploratory data analysis on the netflix_data.csv data to understand more about movies from the 1990s decade.\n",
    "\n",
    "# What was the most frequent movie duration in the 1990s? Save an approximate answer as an integer called duration (use 1990 as the decade's start year).\n",
    "\n",
    "# A movie is considered short if it is less than 90 minutes. Count the number of short action movies released in the 1990s and save this integer as short_movie_count.\n",
    "\n",
    "# Feel free to experiment after submitting the project!\n",
    "\n"
   ]
  },
  {
   "cell_type": "code",
   "execution_count": 12,
   "id": "9bf6d49d-bcff-48ac-b1ae-79594eab1134",
   "metadata": {},
   "outputs": [
    {
     "data": {
      "image/png": "[encoded data removed]",
      "text/plain": [
       "<Figure size 640x480 with 1 Axes>"
      ]
     },
     "metadata": {},
     "output_type": "display_data"
    }
   ],
   "source": [
    "# Read in the Netflix CSV as a DataFrame\n",
    "import numpy as np\n",
    "import pandas as pd\n",
    "import matplotlib.pyplot as plt\n",
    "\n",
    "netflix_df = pd.read_csv(\"/Users/smitpadmani/Downloads/CSV practice datasets/netflix_data.csv\")\n",
    "\n",
    "\n",
    "\n",
    "movies_only = netflix_df[netflix_df[\"type\"] == \"Movie\"]\n",
    "\n",
    "movies_1990s = movies_only[np.logical_and(movies_only[\"release_year\"] >= 1990, movies_only[\"release_year\"] < 2000)]\n",
    "\n",
    "duration1 = movies_1990s[\"duration\"]\n",
    "\n",
    "plt.hist(duration1)\n",
    "plt.title(\"Distribution of movie duration in 1990\")\n",
    "plt.xlabel(\"Duration(in mins)\")\n",
    "plt.ylabel(\"number of movies\")\n",
    "plt.show()\n",
    "\n"
   ]
  },
  {
   "cell_type": "code",
   "execution_count": 13,
   "id": "f2c6d8e3-8621-4c37-b594-267754a8a00d",
   "metadata": {},
   "outputs": [
    {
     "name": "stdout",
     "output_type": "stream",
     "text": [
      "7\n",
      "       release_year   duration\n",
      "count      7.000000   7.000000\n",
      "mean    1994.571429  84.142857\n",
      "std        2.992053   7.081162\n",
      "min     1990.000000  69.000000\n",
      "25%     1992.500000  83.500000\n",
      "50%     1995.000000  87.000000\n",
      "75%     1997.000000  88.500000\n",
      "max     1998.000000  89.000000\n"
     ]
    }
   ],
   "source": [
    "import pandas as pd\n",
    "import numpy as np\n",
    "netflix_df = pd.read_csv(\"/Users/smitpadmani/Downloads/CSV practice datasets/netflix_data.csv\")\n",
    "movies_only = netflix_df[netflix_df[\"type\"] == \"Movie\"]\n",
    "\n",
    "movies_1990s = movies_only[np.logical_and(movies_only[\"release_year\"] >= 1990, movies_only[\"release_year\"] < 2000)]\n",
    "\n",
    "\n",
    "\n",
    "short_action_movies_1990s = movies_1990s[movies_1990s[\"genre\"] == \"Action\"]\n",
    "short_movie_count = 0\n",
    "\n",
    "for lab, row in short_action_movies_1990s.iterrows() :\n",
    "    if row[\"duration\"] < 90 :\n",
    "       short_movie_count = short_movie_count + 1\n",
    "    else :\n",
    "        short_movie_count = short_movie_count + 0\n",
    "print(short_movie_count)\n",
    "\n",
    "\n",
    "    \n",
    "\n",
    "#or\n",
    "\n",
    "\n",
    "count = short_action_movies_1990s[short_action_movies_1990s[\"duration\"] < 90]\n",
    "print(count.describe())\n"
   ]
  },
  {
   "cell_type": "code",
   "execution_count": null,
   "id": "8766fed9-cd4f-4890-a286-054a176110f0",
   "metadata": {},
   "outputs": [],
   "source": []
  }
 ],
 "metadata": {
  "kernelspec": {
   "display_name": "Python 3 (ipykernel)",
   "language": "python",
   "name": "python3"
  },
  "language_info": {
   "codemirror_mode": {
    "name": "ipython",
    "version": 3
   },
   "file_extension": ".py",
   "mimetype": "text/x-python",
   "name": "python",
   "nbconvert_exporter": "python",
   "pygments_lexer": "ipython3",
   "version": "3.13.5"
  }
 },
 "nbformat": 4,
 "nbformat_minor": 5
}
